{
 "cells": [
  {
   "cell_type": "markdown",
   "metadata": {
    "id": "slXpF-1SXF-Q"
   },
   "source": [
    "# **Spotify API**"
   ]
  },
  {
   "cell_type": "code",
   "execution_count": 1,
   "metadata": {
    "colab": {
     "base_uri": "https://localhost:8080/"
    },
    "id": "A0EgPETgXDVI",
    "outputId": "04dd60de-67cf-49c3-f26b-e0822ca4edf3"
   },
   "outputs": [
    {
     "name": "stdout",
     "output_type": "stream",
     "text": [
      "Requirement already satisfied: nose in /usr/local/lib/python3.6/dist-packages (1.3.7)\n"
     ]
    }
   ],
   "source": [
    "pip install nose"
   ]
  },
  {
   "cell_type": "code",
   "execution_count": 2,
   "metadata": {
    "id": "h1Bj8DZHaRl_"
   },
   "outputs": [],
   "source": [
    "import requests as rq\n",
    "import pandas as pd"
   ]
  },
  {
   "cell_type": "markdown",
   "metadata": {
    "id": "s5rqsga0Y-gc"
   },
   "source": [
    "**Retrieving acces token & initializing**"
   ]
  },
  {
   "cell_type": "code",
   "execution_count": 3,
   "metadata": {
    "id": "0fscLKLuXial"
   },
   "outputs": [],
   "source": [
    "client_id = 'id'\n",
    "client_secret = 'secret'"
   ]
  },
  {
   "cell_type": "code",
   "execution_count": 4,
   "metadata": {
    "id": "sJR_4F4dXk-d"
   },
   "outputs": [],
   "source": [
    "auth_url = 'https://accounts.spotify.com/api/token'\n",
    "\n",
    "params = {'grant_type': 'client_credentials',\n",
    "          'client_id': client_id,\n",
    "          'client_secret': client_secret}\n",
    "\n",
    "auth_response = rq.post(auth_url, params).json()\n",
    "\n",
    "access_token = auth_response['access_token']\n",
    "\n",
    "headers = {\n",
    "    'Authorization': 'Bearer {token}'.format(token=access_token)\n",
    "}"
   ]
  },
  {
   "cell_type": "markdown",
   "metadata": {
    "id": "sGoQlPREXMvi"
   },
   "source": [
    "**Retrieving Radiohead - Creep (as test)**"
   ]
  },
  {
   "cell_type": "code",
   "execution_count": 5,
   "metadata": {
    "id": "8Fhond2BXsth"
   },
   "outputs": [],
   "source": [
    "base_url = 'https://api.spotify.com/v1/'\n",
    "endpoint = 'audio-features'\n",
    "url = base_url + endpoint"
   ]
  },
  {
   "cell_type": "code",
   "execution_count": 6,
   "metadata": {
    "id": "R0SUFOF3X0Wh"
   },
   "outputs": [],
   "source": [
    "track_id = '6b2oQwSGFkzsMtQruIWm2p'\n",
    "params = {'ids': [track_id]}\n",
    "creep = rq.get(url, params = params, headers = headers).json()"
   ]
  },
  {
   "cell_type": "code",
   "execution_count": 7,
   "metadata": {
    "id": "XcVZMRBzYHbY"
   },
   "outputs": [],
   "source": [
    "from nose.tools import assert_equal\n",
    "assert_equal(creep, {'audio_features': [{'danceability': 0.515,\n",
    "                                         'energy': 0.43,\n",
    "                                         'key': 7,\n",
    "                                         'loudness': -9.935,\n",
    "                                         'mode': 1,\n",
    "                                         'speechiness': 0.0369,\n",
    "                                         'acousticness': 0.0102,\n",
    "                                         'instrumentalness': 0.000141,\n",
    "                                         'liveness': 0.129,\n",
    "                                         'valence': 0.104,\n",
    "                                         'tempo': 91.841,\n",
    "                                         'type': 'audio_features',\n",
    "                                         'id': '6b2oQwSGFkzsMtQruIWm2p',\n",
    "                                         'uri': 'spotify:track:6b2oQwSGFkzsMtQruIWm2p',\n",
    "                                         'track_href': 'https://api.spotify.com/v1/tracks/6b2oQwSGFkzsMtQruIWm2p',\n",
    "                                         'analysis_url': 'https://api.spotify.com/v1/audio-analysis/6b2oQwSGFkzsMtQruIWm2p',\n",
    "                                         'duration_ms': 238640,\n",
    "                                         'time_signature': 4}]})"
   ]
  },
  {
   "cell_type": "markdown",
   "metadata": {
    "id": "GNg7dpiUYKDL"
   },
   "source": [
    "**Retrieving playlist information**"
   ]
  },
  {
   "cell_type": "code",
   "execution_count": 8,
   "metadata": {
    "id": "xQQ_3yZbYPJk"
   },
   "outputs": [],
   "source": [
    "playlist_id = '3viCfvZDw1b48dciv60bUq'"
   ]
  },
  {
   "cell_type": "code",
   "execution_count": 9,
   "metadata": {
    "id": "dfIjOOv3YT9G"
   },
   "outputs": [],
   "source": [
    "endpoint = 'playlists/' + playlist_id\n",
    "url = base_url + endpoint"
   ]
  },
  {
   "cell_type": "code",
   "execution_count": 10,
   "metadata": {
    "id": "7DX4_ps0YUen"
   },
   "outputs": [],
   "source": [
    "playlist = rq.get(url, headers = headers).json()"
   ]
  },
  {
   "cell_type": "markdown",
   "metadata": {
    "id": "thRuUo71arro"
   },
   "source": [
    "Retrieving general track info"
   ]
  },
  {
   "cell_type": "code",
   "execution_count": 11,
   "metadata": {
    "id": "TgP0SufUZaNN"
   },
   "outputs": [],
   "source": [
    "album, artists, disc_number, duration_ms, explicit, name, popularity, release_date, track_number, uri, danceability, energy, key, loudness, mode, speechiness, acousticness, instrumentalness, liveness, valence, tempo, followers, genres, artist_popularity = [], [], [], [], [], [], [], [],[], [], [], [],[], [], [], [],[], [], [], [], [], [], [], []\n",
    "artist_ids, audio_ids = '', ''\n",
    "\n",
    "for item in playlist['tracks']['items']:\n",
    "    track_info = item['track']\n",
    "    \n",
    "    album.append(track_info['album']['name'])\n",
    "    artists.append(track_info['artists'][0]['name'])\n",
    "    disc_number.append(track_info['disc_number'])\n",
    "    duration_ms.append(track_info['duration_ms'])\n",
    "    explicit.append(track_info['explicit'])\n",
    "    name.append(track_info['name'])\n",
    "    popularity.append(track_info['popularity'])\n",
    "    track_number.append(track_info['track_number'])\n",
    "    uri.append(track_info['uri'])\n",
    "    \n",
    "    artist_ids += track_info['artists'][0]['id'] + ','\n",
    "    audio_ids += track_info['id'] + \",\""
   ]
  },
  {
   "cell_type": "markdown",
   "metadata": {
    "id": "BUsCiq4oaw4l"
   },
   "source": [
    "Retrieving audio features info"
   ]
  },
  {
   "cell_type": "code",
   "execution_count": 12,
   "metadata": {
    "id": "pIEvuYmPZbvF"
   },
   "outputs": [],
   "source": [
    "audio_ids = audio_ids.rstrip(',')\n",
    "audio_url = base_url + \"audio-features/?ids=\" + audio_ids\n",
    "response_audio = rq.get(audio_url, headers = headers).json()\n",
    "\n",
    "for audio_info in response_audio['audio_features']:\n",
    "    danceability.append(audio_info['danceability'])\n",
    "    energy.append(audio_info['energy'])\n",
    "    key.append(audio_info['key'])\n",
    "    loudness.append(audio_info['loudness'])\n",
    "    mode.append(audio_info['mode'])\n",
    "    speechiness.append(audio_info['speechiness'])\n",
    "    acousticness.append(audio_info['acousticness'])\n",
    "    instrumentalness.append(audio_info['instrumentalness'])\n",
    "    liveness.append(audio_info['liveness'])\n",
    "    valence.append(audio_info['valence'])\n",
    "    tempo.append(audio_info['tempo'])"
   ]
  },
  {
   "cell_type": "markdown",
   "metadata": {
    "id": "EI9EtwKSa0jL"
   },
   "source": [
    "Retrieving artist info"
   ]
  },
  {
   "cell_type": "code",
   "execution_count": 13,
   "metadata": {
    "id": "B3FiKI-tZeui"
   },
   "outputs": [],
   "source": [
    "artist_ids = artist_ids.rstrip(',')\n",
    "\n",
    "#split artist_ids string into two halves because of 50 ID cap per request\n",
    "ids1, ids2 = artist_ids[:int(len(artist_ids)/2)], artist_ids[int(len(artist_ids)/2):]\n",
    "ids1 = ids1.rstrip(',')\n",
    "ids2 = ids2.lstrip(',')\n",
    "\n",
    "artist_url = base_url + 'artists/?ids=' + ids1\n",
    "response_artists = rq.get(artist_url, headers = headers).json()\n",
    "\n",
    "for artist_info in response_artists['artists']:\n",
    "    followers.append(artist_info['followers']['total'])\n",
    "    genres.append(artist_info['genres'][0])\n",
    "    artist_popularity.append(artist_info['popularity'])\n",
    "    \n",
    "artist_url = base_url + 'artists/?ids=' + ids2\n",
    "response_artists = rq.get(artist_url, headers = headers).json()\n",
    "\n",
    "for artist_info in response_artists['artists']:\n",
    "    followers.append(artist_info['followers']['total'])\n",
    "    genres.append(artist_info['genres'][0])\n",
    "    artist_popularity.append(artist_info['popularity'])"
   ]
  },
  {
   "cell_type": "markdown",
   "metadata": {
    "id": "EPvKpWU1a6Pw"
   },
   "source": [
    "Storing as pandas dataframe"
   ]
  },
  {
   "cell_type": "code",
   "execution_count": 14,
   "metadata": {
    "colab": {
     "base_uri": "https://localhost:8080/",
     "height": 394
    },
    "id": "qm2auZtDZhfj",
    "outputId": "4fe581b1-934d-43f4-c7a4-3746c7bde03f"
   },
   "outputs": [
    {
     "data": {
      "text/html": [
       "<div>\n",
       "<style scoped>\n",
       "    .dataframe tbody tr th:only-of-type {\n",
       "        vertical-align: middle;\n",
       "    }\n",
       "\n",
       "    .dataframe tbody tr th {\n",
       "        vertical-align: top;\n",
       "    }\n",
       "\n",
       "    .dataframe thead th {\n",
       "        text-align: right;\n",
       "    }\n",
       "</style>\n",
       "<table border=\"1\" class=\"dataframe\">\n",
       "  <thead>\n",
       "    <tr style=\"text-align: right;\">\n",
       "      <th></th>\n",
       "      <th>acousticness</th>\n",
       "      <th>album</th>\n",
       "      <th>artist_popularity</th>\n",
       "      <th>artists</th>\n",
       "      <th>danceability</th>\n",
       "      <th>disc_number</th>\n",
       "      <th>duration_ms</th>\n",
       "      <th>energy</th>\n",
       "      <th>explicit</th>\n",
       "      <th>followers</th>\n",
       "      <th>genres</th>\n",
       "      <th>instrumentalness</th>\n",
       "      <th>key</th>\n",
       "      <th>liveness</th>\n",
       "      <th>loudness</th>\n",
       "      <th>mode</th>\n",
       "      <th>name</th>\n",
       "      <th>popularity</th>\n",
       "      <th>speechiness</th>\n",
       "      <th>tempo</th>\n",
       "      <th>track_number</th>\n",
       "      <th>uri</th>\n",
       "      <th>valence</th>\n",
       "    </tr>\n",
       "  </thead>\n",
       "  <tbody>\n",
       "    <tr>\n",
       "      <th>0</th>\n",
       "      <td>0.752</td>\n",
       "      <td>Paris Milonga</td>\n",
       "      <td>57</td>\n",
       "      <td>Paolo Conte</td>\n",
       "      <td>0.625</td>\n",
       "      <td>1</td>\n",
       "      <td>166160</td>\n",
       "      <td>0.472</td>\n",
       "      <td>False</td>\n",
       "      <td>150203</td>\n",
       "      <td>classic italian pop</td>\n",
       "      <td>0.00298</td>\n",
       "      <td>5</td>\n",
       "      <td>0.1540</td>\n",
       "      <td>-16.407</td>\n",
       "      <td>1</td>\n",
       "      <td>Via con me</td>\n",
       "      <td>62</td>\n",
       "      <td>0.1530</td>\n",
       "      <td>163.410</td>\n",
       "      <td>5</td>\n",
       "      <td>spotify:track:5WHWPRAkR2WYH1CjKV9Omh</td>\n",
       "      <td>0.739</td>\n",
       "    </tr>\n",
       "    <tr>\n",
       "      <th>1</th>\n",
       "      <td>0.700</td>\n",
       "      <td>My Way (Expanded Edition)</td>\n",
       "      <td>85</td>\n",
       "      <td>Frank Sinatra</td>\n",
       "      <td>0.401</td>\n",
       "      <td>1</td>\n",
       "      <td>276800</td>\n",
       "      <td>0.381</td>\n",
       "      <td>False</td>\n",
       "      <td>4351617</td>\n",
       "      <td>adult standards</td>\n",
       "      <td>0.00000</td>\n",
       "      <td>2</td>\n",
       "      <td>0.1220</td>\n",
       "      <td>-7.458</td>\n",
       "      <td>1</td>\n",
       "      <td>My Way</td>\n",
       "      <td>74</td>\n",
       "      <td>0.0274</td>\n",
       "      <td>75.454</td>\n",
       "      <td>6</td>\n",
       "      <td>spotify:track:3spdoTYpuCpmq19tuD0bOe</td>\n",
       "      <td>0.229</td>\n",
       "    </tr>\n",
       "    <tr>\n",
       "      <th>2</th>\n",
       "      <td>0.845</td>\n",
       "      <td>Come Fly With Me (Remastered)</td>\n",
       "      <td>85</td>\n",
       "      <td>Frank Sinatra</td>\n",
       "      <td>0.574</td>\n",
       "      <td>1</td>\n",
       "      <td>199093</td>\n",
       "      <td>0.338</td>\n",
       "      <td>False</td>\n",
       "      <td>4351617</td>\n",
       "      <td>adult standards</td>\n",
       "      <td>0.00000</td>\n",
       "      <td>6</td>\n",
       "      <td>0.1650</td>\n",
       "      <td>-11.376</td>\n",
       "      <td>1</td>\n",
       "      <td>Come Fly With Me - Remastered</td>\n",
       "      <td>70</td>\n",
       "      <td>0.0420</td>\n",
       "      <td>67.008</td>\n",
       "      <td>1</td>\n",
       "      <td>spotify:track:4hHbeIIKO5Y5uLyIEbY9Gn</td>\n",
       "      <td>0.493</td>\n",
       "    </tr>\n",
       "    <tr>\n",
       "      <th>3</th>\n",
       "      <td>0.453</td>\n",
       "      <td>Sinatra/Basie: The Complete Reprise Studio Rec...</td>\n",
       "      <td>85</td>\n",
       "      <td>Frank Sinatra</td>\n",
       "      <td>0.668</td>\n",
       "      <td>1</td>\n",
       "      <td>147000</td>\n",
       "      <td>0.260</td>\n",
       "      <td>False</td>\n",
       "      <td>4351617</td>\n",
       "      <td>adult standards</td>\n",
       "      <td>0.00000</td>\n",
       "      <td>7</td>\n",
       "      <td>0.0621</td>\n",
       "      <td>-14.256</td>\n",
       "      <td>1</td>\n",
       "      <td>Fly Me To The Moon (In Other Words)</td>\n",
       "      <td>75</td>\n",
       "      <td>0.0523</td>\n",
       "      <td>119.416</td>\n",
       "      <td>11</td>\n",
       "      <td>spotify:track:5b7OgznPJJr1vHNYGyvxau</td>\n",
       "      <td>0.368</td>\n",
       "    </tr>\n",
       "    <tr>\n",
       "      <th>4</th>\n",
       "      <td>0.419</td>\n",
       "      <td>Les Lacs Du Connemara</td>\n",
       "      <td>58</td>\n",
       "      <td>Michel Sardou</td>\n",
       "      <td>0.668</td>\n",
       "      <td>1</td>\n",
       "      <td>255226</td>\n",
       "      <td>0.786</td>\n",
       "      <td>False</td>\n",
       "      <td>317726</td>\n",
       "      <td>chanson</td>\n",
       "      <td>0.00000</td>\n",
       "      <td>5</td>\n",
       "      <td>0.5210</td>\n",
       "      <td>-10.272</td>\n",
       "      <td>1</td>\n",
       "      <td>Être une femme</td>\n",
       "      <td>54</td>\n",
       "      <td>0.0840</td>\n",
       "      <td>129.359</td>\n",
       "      <td>7</td>\n",
       "      <td>spotify:track:3cXteS7JTe3VtA8OIoWwAb</td>\n",
       "      <td>0.746</td>\n",
       "    </tr>\n",
       "  </tbody>\n",
       "</table>\n",
       "</div>"
      ],
      "text/plain": [
       "   acousticness  ... valence\n",
       "0         0.752  ...   0.739\n",
       "1         0.700  ...   0.229\n",
       "2         0.845  ...   0.493\n",
       "3         0.453  ...   0.368\n",
       "4         0.419  ...   0.746\n",
       "\n",
       "[5 rows x 23 columns]"
      ]
     },
     "execution_count": 14,
     "metadata": {
      "tags": []
     },
     "output_type": "execute_result"
    }
   ],
   "source": [
    "data = {'album': album, 'artists': artists, 'disc_number': disc_number, 'duration_ms': duration_ms, 'explicit': explicit, 'name': name, 'popularity': popularity, 'track_number': track_number, 'uri': uri, 'danceability': danceability, 'energy': energy, 'key': key, 'loudness': loudness, 'mode': mode, 'speechiness': speechiness, 'acousticness': acousticness, 'instrumentalness': instrumentalness, 'liveness': liveness, 'valence': valence, 'tempo': tempo, 'followers': followers, 'genres': genres, 'artist_popularity': artist_popularity}\n",
    "df = pd.DataFrame(data)\n",
    "df = df.reindex(sorted(df.columns), axis=1)\n",
    "df.head()"
   ]
  },
  {
   "cell_type": "markdown",
   "metadata": {
    "id": "a2rltaQNa-fU"
   },
   "source": [
    "Exporting to csv file"
   ]
  },
  {
   "cell_type": "code",
   "execution_count": 15,
   "metadata": {
    "id": "YtrFtBkrZjwb"
   },
   "outputs": [],
   "source": [
    "df.to_csv('spotify.csv', sep=',')"
   ]
  }
 ],
 "metadata": {
  "colab": {
   "name": "Untitled6.ipynb",
   "provenance": []
  },
  "kernelspec": {
   "display_name": "Python 3",
   "language": "python",
   "name": "python3"
  },
  "language_info": {
   "codemirror_mode": {
    "name": "ipython",
    "version": 3
   },
   "file_extension": ".py",
   "mimetype": "text/x-python",
   "name": "python",
   "nbconvert_exporter": "python",
   "pygments_lexer": "ipython3",
   "version": "3.8.3"
  }
 },
 "nbformat": 4,
 "nbformat_minor": 1
}
